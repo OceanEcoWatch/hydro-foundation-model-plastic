{
 "cells": [
  {
   "cell_type": "code",
   "execution_count": 1,
   "metadata": {},
   "outputs": [],
   "source": [
    "import torch\n",
    "from src.model import swin_v2\n",
    "\n",
    "config_path = \"checkpoints/hydro_simmim_pretrain_swinv2_base_img256_window16_800ep.yaml\"\n"
   ]
  },
  {
   "cell_type": "code",
   "execution_count": 3,
   "metadata": {},
   "outputs": [
    {
     "name": "stdout",
     "output_type": "stream",
     "text": [
      "=> merge config from checkpoints/hydro_simmim_pretrain_swinv2_base_img256_window16_800ep.yaml\n"
     ]
    }
   ],
   "source": [
    "model, transforms, config = swin_v2(config_path)"
   ]
  },
  {
   "cell_type": "code",
   "execution_count": 4,
   "metadata": {},
   "outputs": [
    {
     "name": "stdout",
     "output_type": "stream",
     "text": [
      "torch.Size([1, 1024])\n"
     ]
    }
   ],
   "source": [
    "# Extract image level embeddings\n",
    "with torch.inference_mode():\n",
    "    x = torch.randn(1, 12, 256, 256)\n",
    "    x = transforms(x)\n",
    "    embeddings = model.forward_features(x)\n",
    "    print(embeddings.shape)"
   ]
  },
  {
   "cell_type": "code",
   "execution_count": 5,
   "metadata": {},
   "outputs": [
    {
     "name": "stdout",
     "output_type": "stream",
     "text": [
      "0 torch.Size([1, 128, 64, 64])\n",
      "1 torch.Size([1, 256, 32, 32])\n",
      "2 torch.Size([1, 512, 16, 16])\n",
      "3 torch.Size([1, 1024, 8, 8])\n",
      "4 torch.Size([1, 1024, 8, 8])\n"
     ]
    }
   ],
   "source": [
    "# Extract intermediate feature embeddings\n",
    "with torch.inference_mode():\n",
    "    x = torch.randn(1, 12, 256, 256)\n",
    "    x = transforms(x)\n",
    "    features = model.get_intermediate_layers(x, n=(0, 1, 2, 3, 4), reshape=True)\n",
    "    for i, f in enumerate(features):\n",
    "        print(i, f.shape)"
   ]
  }
 ],
 "metadata": {
  "kernelspec": {
   "display_name": "torchenv",
   "language": "python",
   "name": "python3"
  },
  "language_info": {
   "codemirror_mode": {
    "name": "ipython",
    "version": 3
   },
   "file_extension": ".py",
   "mimetype": "text/x-python",
   "name": "python",
   "nbconvert_exporter": "python",
   "pygments_lexer": "ipython3",
   "version": "3.11.5"
  }
 },
 "nbformat": 4,
 "nbformat_minor": 2
}
