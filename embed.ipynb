{
 "cells": [
  {
   "cell_type": "code",
   "execution_count": 2,
   "metadata": {},
   "outputs": [
    {
     "name": "stdout",
     "output_type": "stream",
     "text": [
      "Tutel has not been installed. To use Swin-MoE, please install Tutel; otherwise, just ignore this.\n",
      "=> merge config from Swin-Transformer/configs/hydro/hydro_simmim_pretrain_swinv2_base_img256_window16_800ep.yaml\n"
     ]
    },
    {
     "data": {
      "text/plain": [
       "CfgNode({'BASE': [''], 'DATA': CfgNode({'BATCH_SIZE': 128, 'DATA_PATH': '/workspace/storage/data/hydro/images/', 'DATASET': 'imagenet', 'IMG_SIZE': 256, 'INTERPOLATION': 'bicubic', 'ZIP_MODE': False, 'CACHE_MODE': 'part', 'PIN_MEMORY': True, 'NUM_WORKERS': 8, 'MASK_PATCH_SIZE': 32, 'MASK_RATIO': 0.6, 'BANDS': 'all', 'CHANNELS': 12, 'MEAN': [340.76769064, 429.9430203, 614.21682446, 590.23569706, 950.68368468, 1792.46290469, 2075.46795189, 2218.94553375, 2266.46036911, 2246.0605464, 1594.42694882, 1009.32729131], 'STD': [554.81258967, 572.41639287, 582.87945694, 675.88746967, 729.89827633, 1096.01480586, 1273.45393088, 1365.45589904, 1356.13789355, 1302.3292881, 1079.19066363, 818.86747235]}), 'MODEL': CfgNode({'TYPE': 'swinv2', 'NAME': 'hydro_simmim_pretrain', 'PRETRAINED': 'Swin-Transformer/output/hydro_simmim_pretrain1/hydro_simmim_pretrain_swinv2_base_img256_window16_800ep/ckpt_epoch_670.pth', 'RESUME': '', 'NUM_CLASSES': 1000, 'DROP_RATE': 0.0, 'DROP_PATH_RATE': 0.1, 'LABEL_SMOOTHING': 0.1, 'IN_CHANS': 3, 'SWIN': CfgNode({'PATCH_SIZE': 4, 'IN_CHANS': 3, 'EMBED_DIM': 96, 'DEPTHS': [2, 2, 6, 2], 'NUM_HEADS': [3, 6, 12, 24], 'WINDOW_SIZE': 7, 'MLP_RATIO': 4.0, 'QKV_BIAS': True, 'QK_SCALE': None, 'APE': False, 'PATCH_NORM': True}), 'SWINV2': CfgNode({'PATCH_SIZE': 4, 'IN_CHANS': 12, 'EMBED_DIM': 128, 'DEPTHS': [2, 2, 18, 2], 'NUM_HEADS': [4, 8, 16, 32], 'WINDOW_SIZE': 16, 'MLP_RATIO': 4.0, 'QKV_BIAS': True, 'APE': False, 'PATCH_NORM': True, 'PRETRAINED_WINDOW_SIZES': [0, 0, 0, 0]}), 'SWIN_MOE': CfgNode({'PATCH_SIZE': 4, 'IN_CHANS': 3, 'EMBED_DIM': 96, 'DEPTHS': [2, 2, 6, 2], 'NUM_HEADS': [3, 6, 12, 24], 'WINDOW_SIZE': 7, 'MLP_RATIO': 4.0, 'QKV_BIAS': True, 'QK_SCALE': None, 'APE': False, 'PATCH_NORM': True, 'MLP_FC2_BIAS': True, 'INIT_STD': 0.02, 'PRETRAINED_WINDOW_SIZES': [0, 0, 0, 0], 'MOE_BLOCKS': [[-1], [-1], [-1], [-1]], 'NUM_LOCAL_EXPERTS': 1, 'TOP_VALUE': 1, 'CAPACITY_FACTOR': 1.25, 'COSINE_ROUTER': False, 'NORMALIZE_GATE': False, 'USE_BPR': True, 'IS_GSHARD_LOSS': False, 'GATE_NOISE': 1.0, 'COSINE_ROUTER_DIM': 256, 'COSINE_ROUTER_INIT_T': 0.5, 'MOE_DROP': 0.0, 'AUX_LOSS_WEIGHT': 0.01}), 'SWIN_MLP': CfgNode({'PATCH_SIZE': 4, 'IN_CHANS': 3, 'EMBED_DIM': 96, 'DEPTHS': [2, 2, 6, 2], 'NUM_HEADS': [3, 6, 12, 24], 'WINDOW_SIZE': 7, 'MLP_RATIO': 4.0, 'APE': False, 'PATCH_NORM': True}), 'SIMMIM': CfgNode({'NORM_TARGET': CfgNode({'ENABLE': True, 'PATCH_SIZE': 47})})}), 'TRAIN': CfgNode({'START_EPOCH': 0, 'EPOCHS': 800, 'WARMUP_EPOCHS': 10, 'WEIGHT_DECAY': 0.05, 'BASE_LR': 0.0001, 'WARMUP_LR': 5e-07, 'MIN_LR': 5e-06, 'CLIP_GRAD': 5.0, 'AUTO_RESUME': True, 'ACCUMULATION_STEPS': 1, 'USE_CHECKPOINT': False, 'LR_SCHEDULER': CfgNode({'NAME': 'multistep', 'DECAY_EPOCHS': 30, 'DECAY_RATE': 0.1, 'WARMUP_PREFIX': True, 'GAMMA': 0.1, 'MULTISTEPS': [700]}), 'OPTIMIZER': CfgNode({'NAME': 'adamw', 'EPS': 1e-08, 'BETAS': (0.9, 0.999), 'MOMENTUM': 0.9}), 'LAYER_DECAY': 1.0, 'MOE': CfgNode({'SAVE_MASTER': False})}), 'AUG': CfgNode({'COLOR_JITTER': 0.4, 'AUTO_AUGMENT': 'rand-m9-mstd0.5-inc1', 'REPROB': 0.25, 'REMODE': 'pixel', 'RECOUNT': 1, 'MIXUP': 0.8, 'CUTMIX': 1.0, 'CUTMIX_MINMAX': None, 'MIXUP_PROB': 1.0, 'MIXUP_SWITCH_PROB': 0.5, 'MIXUP_MODE': 'batch'}), 'TEST': CfgNode({'CROP': True, 'SEQUENTIAL': False, 'SHUFFLE': False}), 'ENABLE_AMP': False, 'AMP_ENABLE': True, 'AMP_OPT_LEVEL': '', 'OUTPUT': 'hydro_simmim_pretrain/hydro_simmim_pretrain_swinv2_base_img256_window16_800ep', 'TAG': 'hydro_simmim_pretrain_swinv2_base_img256_window16_800ep', 'SAVE_FREQ': 5, 'PRINT_FREQ': 100, 'SEED': 0, 'EVAL_MODE': False, 'THROUGHPUT_MODE': False, 'LOCAL_RANK': 1, 'FUSED_WINDOW_PROCESS': False, 'FUSED_LAYERNORM': False})"
      ]
     },
     "execution_count": 2,
     "metadata": {},
     "output_type": "execute_result"
    }
   ],
   "source": [
    "import os\n",
    "import sys\n",
    "import logging\n",
    "from argparse import Namespace\n",
    "import torch\n",
    "import torchvision.transforms as T\n",
    "\n",
    "os.environ[\"LOCAL_RANK\"] = \"1\"\n",
    "sys.path.append(\"Swin-Transformer\")\n",
    "from config import get_config\n",
    "from models import build_model\n",
    "from utils_simmim import load_pretrained\n",
    "\n",
    "logger = logging.getLogger()\n",
    "\n",
    "config_path = \"Swin-Transformer/configs/hydro/hydro_simmim_pretrain_swinv2_base_img256_window16_800ep.yaml\"\n",
    "args = Namespace(cfg=config_path, opts=None)\n",
    "config = get_config(args)\n",
    "config"
   ]
  },
  {
   "cell_type": "code",
   "execution_count": 5,
   "metadata": {},
   "outputs": [],
   "source": [
    "# load transforms\n",
    "mean = torch.tensor(config.DATA.MEAN)\n",
    "std = torch.tensor(config.DATA.STD)\n",
    "norm = T.Normalize(mean=mean, std=std)\n",
    "\n",
    "# load model\n",
    "model = build_model(config, is_pretrain=False)\n",
    "load_pretrained(config, model, logger)"
   ]
  },
  {
   "cell_type": "code",
   "execution_count": 7,
   "metadata": {},
   "outputs": [
    {
     "name": "stdout",
     "output_type": "stream",
     "text": [
      "torch.Size([1, 1024])\n"
     ]
    }
   ],
   "source": [
    "x = torch.randn(1, 12, 256, 256)\n",
    "x = norm(x)\n",
    "embeddings = model.forward_features(x)\n",
    "print(embeddings.shape)"
   ]
  }
 ],
 "metadata": {
  "kernelspec": {
   "display_name": "torchenv",
   "language": "python",
   "name": "python3"
  },
  "language_info": {
   "codemirror_mode": {
    "name": "ipython",
    "version": 3
   },
   "file_extension": ".py",
   "mimetype": "text/x-python",
   "name": "python",
   "nbconvert_exporter": "python",
   "pygments_lexer": "ipython3",
   "version": "3.11.5"
  }
 },
 "nbformat": 4,
 "nbformat_minor": 2
}
